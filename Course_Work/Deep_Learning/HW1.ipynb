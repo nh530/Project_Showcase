{
 "cells": [
  {
   "cell_type": "code",
   "execution_count": 136,
   "metadata": {},
   "outputs": [],
   "source": [
    "from sklearn.linear_model import Lasso\n",
    "from sklearn.linear_model import Ridge\n",
    "import pandas as pd\n",
    "import matplotlib.pyplot as plt\n",
    "from sklearn.model_selection import GridSearchCV\n",
    "import numpy as np"
   ]
  },
  {
   "cell_type": "code",
   "execution_count": null,
   "metadata": {},
   "outputs": [],
   "source": [
    "data = pd.read_csv(\"Hitters.csv\")\n",
    "data.drop(\"Unnamed: 0\", axis=1, inplace=True)"
   ]
  },
  {
   "cell_type": "code",
   "execution_count": null,
   "metadata": {},
   "outputs": [],
   "source": [
    "cols = (data.dtypes == 'int64') | (data.dtypes == 'float64')\n",
    "data = data.loc[:, cols]"
   ]
  },
  {
   "cell_type": "code",
   "execution_count": null,
   "metadata": {},
   "outputs": [],
   "source": [
    "def missing_value_calculator(dataset):\n",
    "    # which columns have missing values\n",
    "    indexer = dataset.isnull().sum() > 0\n",
    "    \n",
    "    # Raw counts of missing values\n",
    "    raw = dataset.isnull().sum()[indexer].sort_values(ascending=False)\n",
    "    \n",
    "    # percentage of missing values\n",
    "    percentage = ((dataset.isnull().sum()/dataset.shape[0])\n",
    "                    *100)[indexer].sort_values(ascending=False)\n",
    "\n",
    "    # combine the two dataframes into 1 output\n",
    "    output = pd.concat([raw, percentage], axis=1, ignore_index=False, \n",
    "                       keys=['# Missing', 'Percent Missing'])\n",
    "    return output"
   ]
  },
  {
   "cell_type": "code",
   "execution_count": null,
   "metadata": {},
   "outputs": [],
   "source": [
    "missing_value_calculator(data)"
   ]
  },
  {
   "cell_type": "code",
   "execution_count": null,
   "metadata": {},
   "outputs": [],
   "source": [
    "data.dropna(axis=0, inplace=True)"
   ]
  },
  {
   "cell_type": "markdown",
   "metadata": {},
   "source": [
    "# 1.1 \n",
    "Use LASSO regression to predict Salary from the other numeric predictors.  Create a visualization of the coefficient trajectories.  Comment on which are the final three predictors that remain in the model.  Use cross-validation to find the optimal value of the regularization penalty.  How many predictors are left in that model?"
   ]
  },
  {
   "cell_type": "code",
   "execution_count": null,
   "metadata": {
    "scrolled": true
   },
   "outputs": [],
   "source": [
    "nums = np.logspace(1, 5, 1000)\n",
    "params = {'alpha':nums}\n",
    "x = data.drop('Salary', axis=1)\n",
    "y = data.loc[:, 'Salary']"
   ]
  },
  {
   "cell_type": "code",
   "execution_count": null,
   "metadata": {
    "scrolled": true
   },
   "outputs": [],
   "source": [
    "cv = GridSearchCV(Lasso(max_iter=5000, tol=.8), params, cv=10, scoring='neg_mean_squared_error')\n",
    "cv.fit(x, y)\n",
    "# Using cross validation to find optimal value for regularization penalty.\n",
    "cv.best_params_"
   ]
  },
  {
   "cell_type": "code",
   "execution_count": null,
   "metadata": {
    "scrolled": true
   },
   "outputs": [],
   "source": [
    "# Create visualization of the coefficient trajectories.\n",
    "coefs = []\n",
    "for a in nums:\n",
    "    lasso_model = Lasso(max_iter=5000, tol=.8, alpha=a, fit_intercept=True)\n",
    "    lasso_model.fit(x, y)\n",
    "    coefs.append(lasso_model.coef_)"
   ]
  },
  {
   "cell_type": "code",
   "execution_count": null,
   "metadata": {
    "scrolled": false
   },
   "outputs": [],
   "source": [
    "ax = plt.gca()\n",
    "ax.plot(nums, coefs)\n",
    "ax.set_xscale('log')\n",
    "plt.xlabel('alpha')\n",
    "plt.ylabel('weights')\n",
    "plt.title('Lasso coefficients as a function of the regularization')\n",
    "plt.axis('tight')\n",
    "plt.show()"
   ]
  },
  {
   "cell_type": "code",
   "execution_count": null,
   "metadata": {},
   "outputs": [],
   "source": [
    "inv_coefs = coefs[::-1]"
   ]
  },
  {
   "cell_type": "code",
   "execution_count": null,
   "metadata": {},
   "outputs": [],
   "source": [
    "inv_coefs[232] # checked random values of alpha to find when 3 predictor coefficients are left."
   ]
  },
  {
   "cell_type": "code",
   "execution_count": null,
   "metadata": {
    "scrolled": true
   },
   "outputs": [],
   "source": [
    "x.columns # Matching the position of the names to the positions of the coefficents.  "
   ]
  },
  {
   "cell_type": "code",
   "execution_count": null,
   "metadata": {},
   "outputs": [],
   "source": [
    "lasso_model = Lasso(max_iter=5000, tol=.8, alpha=198.288, fit_intercept=True)\n",
    "lasso_model.fit(x, y)\n",
    "lasso_model.coef_"
   ]
  },
  {
   "cell_type": "markdown",
   "metadata": {},
   "source": [
    "AtBat, CAtBat, and PutOuts are the three variables that are last to approach 0.  Using cross-validation, 198.288 is found to be the optimal alpha for the model.  There are 12 predictors left.  "
   ]
  },
  {
   "cell_type": "markdown",
   "metadata": {},
   "source": [
    "# 1.2\n",
    "Repeat with Ridge Regression.  Visualize coefficient trajectories.  Use cross-validation to find the optimal value of the regularization penalty.  "
   ]
  },
  {
   "cell_type": "code",
   "execution_count": 158,
   "metadata": {},
   "outputs": [],
   "source": [
    "nums = np.logspace(1, 10, 1000)"
   ]
  },
  {
   "cell_type": "code",
   "execution_count": 159,
   "metadata": {},
   "outputs": [
    {
     "name": "stderr",
     "output_type": "stream",
     "text": [
      "C:\\Users\\Norman\\Anaconda3\\lib\\site-packages\\sklearn\\model_selection\\_search.py:813: DeprecationWarning: The default of the `iid` parameter will change from True to False in version 0.22 and will be removed in 0.24. This will change numeric results when test-set sizes are unequal.\n",
      "  DeprecationWarning)\n"
     ]
    },
    {
     "data": {
      "text/plain": [
       "{'alpha': 8932.045998580968}"
      ]
     },
     "execution_count": 159,
     "metadata": {},
     "output_type": "execute_result"
    }
   ],
   "source": [
    "cv = GridSearchCV(Ridge(max_iter=5000, tol=.8), params, cv=10, scoring='neg_mean_squared_error')\n",
    "cv.fit(x, y)\n",
    "# Using cross validation to find optimal value for regularization penalty.\n",
    "cv.best_params_"
   ]
  },
  {
   "cell_type": "code",
   "execution_count": 160,
   "metadata": {},
   "outputs": [],
   "source": [
    "# Create visualization of the coefficient trajectories.\n",
    "coefs = []\n",
    "for a in nums:\n",
    "    lasso_model = Ridge(max_iter=5000, tol=.8, alpha=a, fit_intercept=True)\n",
    "    lasso_model.fit(x, y)\n",
    "    coefs.append(lasso_model.coef_)"
   ]
  },
  {
   "cell_type": "code",
   "execution_count": 161,
   "metadata": {},
   "outputs": [
    {
     "data": {
      "image/png": "[encoded data removed]",
      "text/plain": [
       "<Figure size 432x288 with 1 Axes>"
      ]
     },
     "metadata": {
      "needs_background": "light"
     },
     "output_type": "display_data"
    }
   ],
   "source": [
    "ax = plt.gca()\n",
    "ax.plot(nums, coefs)\n",
    "ax.set_xscale('log')\n",
    "plt.xlabel('alpha')\n",
    "plt.ylabel('weights')\n",
    "plt.title('Ridge coefficients as a function of the regularization')\n",
    "plt.axis('tight')\n",
    "plt.show()"
   ]
  },
  {
   "cell_type": "code",
   "execution_count": 165,
   "metadata": {},
   "outputs": [
    {
     "data": {
      "text/plain": [
       "array([-1.56741243,  4.99479185, -0.1124832 ,  0.31579414,  0.55898861,\n",
       "        4.36281089, -0.05524432, -0.25896081,  0.50127564,  0.1722637 ,\n",
       "        1.20989316,  0.64976789, -0.55400769,  0.29418619,  0.33138405,\n",
       "       -1.38298832])"
      ]
     },
     "execution_count": 165,
     "metadata": {},
     "output_type": "execute_result"
    }
   ],
   "source": [
    "ridge_model = Ridge(max_iter=5000, tol=.8, alpha=8932.046, fit_intercept=True)\n",
    "ridge_model.fit(x, y)\n",
    "ridge_model.coef_"
   ]
  },
  {
   "cell_type": "markdown",
   "metadata": {},
   "source": [
    "The optimal value of alpha is 8932."
   ]
  },
  {
   "cell_type": "markdown",
   "metadata": {},
   "source": [
    "# 2\n",
    "Explain in your own words the bias-variance tradeoff.  What role does regularization play in this tradeoff?  Make references to your findings in number 1 to describe models of high/low bias and variance. "
   ]
  },
  {
   "cell_type": "markdown",
   "metadata": {},
   "source": [
    "An underfit model will have high bias and an overfit model will have high variance.  High bias is another way of saying that the predictions will deviate far from the true values.  High variance means that slight changes to the training set will create vastly different coefficients in a model.  Regularization includes a penalty that stops a model from overfitting.  In exercise 1, as the regularization parameter is increased, the coefficients tend towards 0.  This is equivalent to reducing the variance of the model, but will slightly increase the bias.  A balance between the two will result in an optimal model."
   ]
  }
 ],
 "metadata": {
  "kernelspec": {
   "display_name": "Python 3",
   "language": "python",
   "name": "python3"
  },
  "language_info": {
   "codemirror_mode": {
    "name": "ipython",
    "version": 3
   },
   "file_extension": ".py",
   "mimetype": "text/x-python",
   "name": "python",
   "nbconvert_exporter": "python",
   "pygments_lexer": "ipython3",
   "version": "3.6.7"
  }
 },
 "nbformat": 4,
 "nbformat_minor": 2
}
