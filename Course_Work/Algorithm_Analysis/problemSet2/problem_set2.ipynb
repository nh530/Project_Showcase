{
 "cells": [
  {
   "cell_type": "markdown",
   "metadata": {},
   "source": [
    "1. Explain how to solve the following two problems using heaps.  First, give an O(nlogk) algorithm to merge k sorted lists with n total elements into one sorted list. `"
   ]
  },
  {
   "cell_type": "markdown",
   "metadata": {},
   "source": [
    "Given k sorted input arrays $A_{1}$, $A_{2}$, ..., $A_{k}$, where the sum of the length of the two arrays is $n$.  Create a heap $B$ of size $k$, where each element in $B$ is a single element from each of the k input ararys.  Furthermore, each element is taken from the last most entry of each input array.  This ensures that $B$ will  always be made up of the largest possible values out of all input arrays.  Call Build_Max_Heap on $B$ to ensure that the heap statisfies the max heap property.  This will run in $O(k)$ time.  Next remove the root node from $B$ and insert to results array.  Add new number from the same array that the element in the root node came from.  This ensures that each element in $B$ comes from each input array, which ensures that the max most value from each array is in the heap.  This is necessary for proper sorting.  This process is repeated until the heap becomes empty, and each element that is inserted into results is inserted backwards from n, n-1, n-2, ..., 1.  When an input array becomes empty, negative infinity is inserted into $B$, and the algorithm continues as normal.  \n",
    "\n",
    "Pseudocode:  \n",
    "Input: k arrays $[A_{1}$, $A_{2}$, ..., $A_{k}]$ with total length equal to $n$.  \n",
    "Output: Single sorted array.  \n",
    "\n",
    "results $\\leftarrow [ ]$ // Initialize results into an empty array that will contain the sorted elements.  \n",
    "lists $\\leftarrow [A_{1}, A_{2}, ..., A_{k}]$ <br>\n",
    "B $\\leftarrow [a_{1}$, $a_{2}$, ..., $a_{k}]$ // B is formed by taking the  last element from $[A_{1}$, $A_{2}$, ..., $A_{k}]$.  It can be shown that this would take $O(1)$ time by using indexing.  \n",
    "Build_max_heap($B$) // Runs in $O(k)$ time.  \n",
    "\n",
    "while $B \\neq \\emptyset$ {  \n",
    "$i, v \\leftarrow$ Extract_max($B$) // runs in $O(logk)$ time.  Extract_max maintains the max heap property.  $i$ is the index of lists, which corresponds to the input array that the value $v$ came from.  \n",
    "\n",
    "new_element $\\leftarrow$ lists[$i$][length(lists[$i$])] // Runs in O(1) time.  This indexes for the last element in the same array as $v$.  \n",
    "\n",
    "results[$n$] $\\leftarrow v$ // adds the value to the end of results.  \n",
    "\n",
    "$n=n-1$  \n",
    "\n",
    "if length(lists[$i$]) = 0 {  \n",
    "insert($B$, $-\\infty$) // insert also maintains the max heap property.  Runtime is O(logk).  \n",
    "}  \n",
    "else{  \n",
    "insert($B$, new_element)  \n",
    "}}"
   ]
  },
  {
   "cell_type": "markdown",
   "metadata": {},
   "source": [
    "The while loop runs until $B$ is empty, which means it will run $n$ times because there are total n elements.  That means that the total runtime is $O(k) + nO(logk) + nO(1) + nO(logk) = O(k+nlogk+n)$.  Clearly, $nO(logk)$ dominates.  Therefore, runtime is $O(nlogk)$."
   ]
  },
  {
   "cell_type": "markdown",
   "metadata": {},
   "source": [
    "Proof of correctness by loop invariant:  \n",
    "\n",
    "The $i^{th}$ element to insert into result is always the root node in heap $B$ in step $i$ because that has the highest value in the heap.  Therefore, the results array is correctly sorted when every element is inserted backwards from index $n$ down to index $1$.  At a given instance, $B$ always contain the max values from each input array.  Therefore, the root of $B$ is the max value possible out of all the input arrays, not including the values already in results.  \n",
    "\n",
    "Initialization: Show invariant is true before loop started.  \n",
    "\n",
    "Before the $1^{st}$ iteration of the while loop, $B$ always contain the max values from each input list.  Therefore, the root of $B$ is the max value, which is the correct element to insert into results.  Therefore, the algorithm will correctly sort this value.  \n",
    "\n",
    "Maintenance: Show it is true after an iteration.  \n",
    "\n",
    "After $1^{st}$ iteration, the max element is inserted into results.  This means $B$ contains the $2^{nd}$ highest value possible, and it is at the root node.  Since algorithm removes element from root to add to results, this element will be correctly sorted into results.  \n",
    "\n",
    "Therefore after $i^{th}$ iterations, the $i^{th}$ element is correctly inserted into results[n...i...1].  \n",
    "\n",
    "Termination: \n",
    "\n",
    "The code will terminate when $B \\neq \\emptyset$, which means input arrays are now empty.  Therefore, all elements must be in results.  Since algorithm correctly sorts at each iteration, the final output must be correctly sorted.  QED.  "
   ]
  },
  {
   "cell_type": "markdown",
   "metadata": {},
   "source": [
    "1. Second, say that a list of numbers is k-close to sorted if each number in the list is less than k positions from its actual place in the sorted order.  (Hence, a list that is 1-close to sorted is actually sorted.)  Give an O(nlogk) algorithm for sorting a list of n numbers that is k-close to sorted. "
   ]
  },
  {
   "cell_type": "markdown",
   "metadata": {},
   "source": [
    "Given an input array $A$ of length $n$ with numbers that are k-close to sorted.  For every value that is k-close to sorted, create a binary heap, $B$, of size $k+1$.  $B$ is made up of the last $k+1$ elements from A.  This ensure that $B$ will always contain the max value from $A$.  Initialize an empty array called results.  Call Build_Max_Heap on B once.  This runs in O(k).  Now remove the root node from $B$ and insert it into results array.  Remove the value in the last position of $A$ and insert it into $B$.  This is repeated n times, and at each iteration, the value is inserted into results array going backwards, from the last index of results to the first.  \n",
    "\n",
    "Pseudocode:  \n",
    "\n",
    "Input: $A$, unsorted and k-close to sorted.  $A$ is length $n$.  $A[1, ..., n]$.  \n",
    "Output: return a sorted array called results.  \n",
    "\n",
    "results $\\leftarrow [ ]$ // Initialize results into an empty array that will contain the sorted elements.  \n",
    "B $\\leftarrow A[k-1, k-2, ..., n]$ // B is formed by taking the last $k+1$ elements from A.  It can be shown that this would take $O(1)$ time by using indexing.  \n",
    "Build_max_heap($B$) // Runs in $O(k)$ time.  \n",
    "\n",
    "while $B \\neq \\emptyset$ {  \n",
    "$v \\leftarrow$ Extract_max($B$) // runs in $O(logk)$ time.  Extract_max maintains the max heap property.  $i$ is the index of lists, which corresponds to the input array that the value $v$ came from.  \n",
    "\n",
    "results[$n$] $\\leftarrow v$ // adds the value to the end of results.  \n",
    "\n",
    "$n=n-1$  \n",
    "\n",
    "insert($B$, $A[n]$) // insert also maintains the max heap property.  Runtime is O(logk).  \n",
    "}"
   ]
  },
  {
   "cell_type": "markdown",
   "metadata": {},
   "source": [
    "The while loop runs n times.  Therefore runtime is O(nlogk) + O(n) + O(k).  The dominant term is O(nlogk); therefore, the overall runtime is O(nlogk).  "
   ]
  },
  {
   "cell_type": "markdown",
   "metadata": {},
   "source": [
    "Proof of correctness by loop invariant:\n",
    "\n",
    "At $i^{th}$ step, the max value of $B$ will be the correct element to insert to results going from last index to first index of the array.  In other words, the $i^{th}$ element to be inserted into results is found in $B$ in the $i^{th}$ step.  This implies that results will be correctly sorted when the $i^{th}$ element is inserted into results from index $n ... i$.  \n",
    "\n",
    "Initialization: Show invariant is true before loop started.  \n",
    "\n",
    "Before the first step, $B$ contains the max value in $A$ because the max value must be $k$ positions away from correct sorted position, and $B$ contains $k+1$ elements starting with values from the end of $A$.  This ensures that $B$ will include the max value.  Therefore, the correct value will be inserted into results, which is found in the root of $B$.  The root of $B$ is the max most value.  \n",
    "\n",
    "Maintenance: Show it is true after an iteration.  \n",
    "\n",
    "After first iteration, the max most value is found in results.  Because $B$ always contain the current max value of $A$, we can be sure that the correct value will be inserted into results by the algorithm.\n",
    "\n",
    "Therefore, after $i^{th}$ iteration the $i^{th}$ element will be correctly inserted to results.  \n",
    "\n",
    "Termination: Show termination of loop results in desired outcome.  \n",
    "\n",
    "It follows that after $n$ iterations, loop terminates and the results array contains all the sorted elements in correct order.  QED.  "
   ]
  },
  {
   "cell_type": "markdown",
   "metadata": {},
   "source": [
    "2. Consider an algorithm for integer multiplication of two n-digit numbers where each number is split into 3 parts, each with n/3 digits.  Design and explain such an algorithm, similar to the integer multiplication algorithm (karatsuba's algo) presented in class.  Your algorithm should describe how to multiply the two integers using only 6 multiplication on the  smaller parts instead of the straight forward 9.  "
   ]
  },
  {
   "cell_type": "markdown",
   "metadata": {},
   "source": [
    "Given 2 integers $X$ and $Y$.  Each integer has length n and n is divisible by 3.  Let $X = a10^{2n/3} + b10^{n/3} + c$ and $Y = d10^{2n/3} + e10^{n/3} + f$.  Then the multi algorithm will make 6 recursive calls on inputs of size $n/3$.  The base case is when the two inputs are length 1.  At this recursive level, the algorithm will do simple integer multiplication because the input is small enough where the runtime will be $O(1)$ for this step.  Finally, the algorithm will use the results of the 6 recursive calls to calculate the product of $X$ and $Y$.  \n",
    "\n",
    "Pseudocode:\n",
    "\n",
    "multi(X,Y){  \n",
    "Input: 2 positive integers $X$ and $Y$ where the length of each integer is n.  Assume $n$ is divisible by 3.  \n",
    "Output: Returns $X \\cdot Y$.  \n",
    "\n",
    "if $X$ or $Y$ are length 1{  \n",
    "return product of $X$ and $Y$  // Integer multiplication on sufficiently small numbers has runtime O(1) time.  \n",
    "}\n",
    "\n",
    "$X = a10^{2n/3} + b10^{n/3} + c$  \n",
    "$Y = d10^{2n/3} + e10^{n/3} + f$  \n",
    "\n",
    "temp1 $\\leftarrow$ multi($a$,$d$)  \n",
    "temp2 $\\leftarrow$ multi($a+b$, $e+d$)  \n",
    "temp3 $\\leftarrow$ multi($b$, $e$)  \n",
    "temp4 $\\leftarrow$ multi($c+b$, $e+f$)  \n",
    "temp5 $\\leftarrow$ multi($c$, $f$)  \n",
    "temp6 $\\leftarrow$ multi($f+d$, $a+c$)  \n",
    "\n",
    "return $(temp1)10^{4n/3} + [temp2 - temp1 - temp3]10^{n} + [temp4 - temp5 - temp3]10^{n/3} + [temp6 - temp5 - temp3]10^{2n/3} + (temp5)$\n",
    "}"
   ]
  },
  {
   "cell_type": "markdown",
   "metadata": {},
   "source": [
    "Proof of correctness by induction:  \n",
    "\n",
    "Input: 2 positive integers $X$ and $Y$ of length $n$.  \n",
    "Output: Product of $X$ and $Y$.  \n",
    "\n",
    "Base case:  \n",
    "Suppose the length of $X$ and $Y$ is 1.  Then $X \\cdot Y$ is returned, which is the desired outcome.  \n",
    "\n",
    "Inductive Case:  \n",
    "\n",
    "Assume $n$ is divisible by 3 and n is length of $X$ and $Y$.  Let $X = a10^{2n/3} + b10^{n/3} + c$ and $Y = d10^{2n/3} + e10^{n/3} + f$.  Assume that algorithm returns correct integer multiplication on input of size smaller than $n$.  Suppose we call algorithm on inputs of $X$ and $Y$ with length $n$.  Therefore, the 6 recursive calls made by the algorithm will return the correct product because the recursive calls are on inputs of size $n/3$ and the inductive hypothesis guarentees that this will return correctly.  Since it is a fact that $X \\cdot Y = (ad)10^{4n/3} + (ae+db)10^{n} + (fa+be+dc)10^{2n/3} + (ce+bf)10^{n/3} + (cf)$ and $(temp1)10^{4n/3} + [temp2 - temp1 - temp3]10^{n} + [temp4 - temp5 - temp3]10^{n/3} + [temp6 - temp5 - temp3]10^{2n/3} + (temp5)$ is equal to this, the final return call by the algorithm returns the correct product.  QED\n"
   ]
  },
  {
   "cell_type": "markdown",
   "metadata": {},
   "source": [
    "2. Determine the asymptotic running time of your algorithm.  Would you rather split it into two parts( with 3 multiplications on the smaller parts) as in karatsuba's algorithm?"
   ]
  },
  {
   "cell_type": "markdown",
   "metadata": {},
   "source": [
    "There are 6 recursive calls on input of $n/3$.  Adding 2 n-digit numbers has $O(n)$ runtime.  Multiplication by powers of 10 is O(n) runtime.  Therefore, the post processing is  $O(n) + O(n) = O(n)$.  Let $T(n)$ represent the number of steps.  Then, $T(n) = 6T(n/3) + O(n) = 6T(n/3) + cn$.  Let $a=6$, $b=3$, $k=1$.  Since $6>3$, it follows from the master theorem that the runtime is upper bounded by $O(n^{log_{3}6}) = O(n^{1.63})$.  Since karatsuba's algorithm runs in $O(n^{1.58})$, karatsuba's algorithm is slightly faster, so it would be better to split it into two parts."
   ]
  },
  {
   "cell_type": "markdown",
   "metadata": {},
   "source": [
    "2. Suppose you could use only 5 multiplications instead of 6.  Then determine the asymptotic running time of such an algorithm.  In this case, would you rather split it into 2 parts or 3 parts?"
   ]
  },
  {
   "cell_type": "markdown",
   "metadata": {},
   "source": [
    "$T(n) = 5T(n/3) + O(n) = 6T(n/3) + cn$.  Let $a=5$, $b=3$, $k=1$.  Since $5 > 3$, the runtime of this algorithm would be $O(n^{log_{3}5}) = O(n^{1.46})$.  In this case, splitting into 3 parts would be faster than karatsuba's algorithm.  "
   ]
  },
  {
   "cell_type": "markdown",
   "metadata": {},
   "source": [
    "3. An inversion in an array A[1, ..., n] is a pair of indices (i,j) such that i < j and A[i] > A[j].  The number of inversions in an n-element array is between 0 (if array is sorted) and n(n-1)/2 (if an array is sorted backwards).  Describe and analyze an algorithm to count the n umber of inversions in an n-element  array in O(nlogn) time.  Modify mergesort."
   ]
  },
  {
   "cell_type": "markdown",
   "metadata": {},
   "source": [
    "Given an array $A[1, 2, ..., n]$ and $n$ is the length.  The algorithm does a recursive call on the first half of $A$ and another recursive call on the second half of $A$.  These recursive calls return a value for the number of inversions and the sorted array.  The merge subroutine is called to merge the two halves of $A$ into 1 sorted array.  At the same time, the number of inversions between the two halves are calculated.  The algorithm then returns the sum of all inversions from the 3 parts.  \n",
    "\n",
    "Pseudocode:  \n",
    "\n",
    "Input is array $A[1, 2, ..., n]$.  The length of $A$ is $n$.\n",
    "Output is number of inversions.  \n",
    "\n",
    "Counter($A$){  \n",
    "\n",
    "if $n=1${ // Base case.  \n",
    "return (0, $A$)  \n",
    "}\n",
    "else{  \n",
    "// recursively call counter on 1st half of $A$ and 2nd half of $A$.   \n",
    "$(X,x) \\leftarrow Counter(A[1, 2, ..., n/2])$ // $X$ is the number of inversions in 1st half of $A$ and $x$ is the sorted array for first half.  \n",
    "$(Y,y) \\leftarrow Counter(A[n/2 +1, n/2 + 2, ..., n])$ // $Y$ is the number of inversions in 2nd half of $A$ and $y$ is the sorted array for second half.  \n",
    "$(Z,z) \\leftarrow merge(x,y)$ // $Z$ is the number of inversions between 1st half of $A$ and 2nd half of $A$.  $z$ is the sorted array.  \n",
    "\n",
    "return ($X+Y+Z$)  \n",
    "}  \n",
    "\n",
    "merge($A$, $B$){  \n",
    "// $A$ and $B$ are sorted arrays.  \n",
    "// if $A[i] > B[j]$, then $A[i, i+1, ..., n/2] > B[j]$.  This means the number of inversions on $B[j]$ is equal to the length of $A[i, i+1, ..., n/2]$.  \n",
    "\n",
    "count $\\leftarrow 0$  \n",
    "c $\\leftarrow []$  \n",
    "n $\\leftarrow 1$  \n",
    "\n",
    "while length($A$) $>0$ or length($B$) $>0${  \n",
    "if $A[0] > B[0]${  \n",
    "remove $B[0]$ from $B$  \n",
    "$c[n] \\leftarrow B[0]$  \n",
    "$n \\leftarrow n+1$  \n",
    "count $\\leftarrow$ count $+$ length(A)  \n",
    "}\n",
    "if $A[0] < B[0]${  \n",
    "remove $A[0]$ from $A$  \n",
    "$c[n] \\leftarrow A[0]$  \n",
    "$n \\leftarrow n+1$  \n",
    "}  \n",
    "if length($A$) $=0${  \n",
    "add the rest of $B$ to $c$  \n",
    "}  \n",
    "if length($B$) $=0${  \n",
    "add the rest of $A$ to $c$  \n",
    "}  \n",
    "return (count,c)  \n",
    "}}"
   ]
  },
  {
   "cell_type": "markdown",
   "metadata": {},
   "source": [
    "The runtime or merge subroutine is $O(n)$ because the while loop occurs atmost $n/2+1$ times and all operations inside the loop is constant time.  There are 2 recursive calls in the Counter algorithm.  Therefore, the runtime should be the same as merge sort.  Runtime is $O(nlogn)$.  "
   ]
  },
  {
   "cell_type": "markdown",
   "metadata": {},
   "source": [
    "Counter algorithm proof of correctness by induction:  \n",
    "\n",
    "Input is array $A[1, 2, ..., n]$  is an unsorted array of length n.  \n",
    "Output is the number of inversions in A.  \n",
    "\n",
    "Base case:  \n",
    "Suppose $n=1$.  Then, there are no inversions.  Therefore, return 0 is the correct output.  \n",
    "\n",
    "Inductive case:  \n",
    "Let $X$ represent first 1/2 of A, and $Y$ represent second 1/2 of A.  Assume length of $A$ is divisible by 2.  Assume that the Counter algorithm returns corrrect number of inversions for input size less than $n$.  Suppose we call algorithm on input of size $n$.  Then algorithm will recursively call on $X$ and $Y$.  By the inductive hypothesis, these calls will return the correct number of inversions.  Since the merge step works correctly, then the algorithm returns correct number of inversions after summing up all the inversions from the 2 recursive calls and the 1 merge step.  QED\n",
    "\n",
    "Merge subroutine proof of correctness:  \n",
    "\n",
    "The Merge subroutine uses the following property: if $A[0] > B[0]$, then $A[0, 1, ..., n/2] > B[0]$.  This means the number of inversions on $B[0]$ is equal to the length of $A[0, 1, ..., n/2]$.  At each iteration of the while loop, count is only increased when the property is satisfied.  The while loop runs until A and B are empty, which occurs atmost $(n/2+1)$ times.  After the loop terminates, the counter will successfully sum up all the iterations between the two halves.  QED"
   ]
  },
  {
   "cell_type": "markdown",
   "metadata": {},
   "source": [
    "4. Recall that when running depth first search on a directed graph, we classified edges into 4 categories: tree edges, forward edges, back edges, and cross edges.  Prove that if a graph is undirected, then any depth first search on G will never encounter a cross edge.  "
   ]
  },
  {
   "cell_type": "markdown",
   "metadata": {},
   "source": [
    "Proof by contradiction:  \n",
    "\n",
    "Assume that {u,v} is a cross edge.  That means DFS has visited both u and v, but the edge {u,v} is not marked as a tree edge.  Since it was not marked as a tree edge, it means that the edge {u,v} was not visited.  Suppose DFS visited u first and not v.  DFS would explore all edges connected to u.  Therefore, it would of explored u and then explore the edge {u,v}.  This means this edge is a tree edge.  This is a contradiction, which means that {u, v} cannot be a cross edge.  Both edges can't  be visited at the same time and once either u or v is visited, {u,v} will be explored because the edge is undirected.  QED.  "
   ]
  },
  {
   "cell_type": "markdown",
   "metadata": {},
   "source": [
    "5. In the shortest-path algorithm, we are concerned with the total length of the path between a source and every other node.  Suppose instead that we are concerned with the length of the longest edge between the source and every node.  That is, the bottleneck of a path is defined to be the length of the longest edgte in the path.  Design an efficient algorithm to solve the single source smallest bottleneck problem.  (find the paths from a source to every other node such that each path has the smallest possible bottleneck)"
   ]
  },
  {
   "cell_type": "markdown",
   "metadata": {},
   "source": [
    "The proposed algorithm is simply a change on the optimization condition of Dijkstra's algorithm.  Instead of creating paths that have the smallest distance to $v$ from $s$, the proposed algorithm create paths that have the smallest bottleneck.  An array called max is used to keep track of the max edge weight in a path.  For example, $max[e]$ would return the max edge weight in the path from $s$ to $e$.  If a new path is found where the max edge weight to $v$ is smaller than the path currently found, the algorithm will modify the dist array, max array, and prev array to match the new found path.  Everything else, is the same as Dijkstra's algorithm.  \n",
    "\n",
    "Pseudocode:  \n",
    "\n",
    "Input is $G=$ Graph($E$,$V$), $length[1, 2, ..., n]$, and source $s$ such that $s \\in V$.  $length[e]$ is the weight of edge $e$.  \n",
    "Output is path to $v$ from $s$ such that bottleneck is minimized.  \n",
    "\n",
    "$H \\leftarrow \\{(s,0), (v, \\infty) : v \\in V, v \\neq s\\}$ // H is a priority heap with size $n$ where $n=|V|$.  \n",
    "$dist[s] \\leftarrow 0$  \n",
    "$dist[v] \\leftarrow \\infty$ for all $v \\neq s$   // runtime is $O(n)$ because there are $n$ vertices.  \n",
    "$prev[v] \\leftarrow \\emptyset$ for all $v \\in V$ // runtime is $O(n)$ because there are $n$ vertices.  \n",
    "\n",
    "while $H \\neq \\emptyset${\n",
    "$v \\leftarrow$ delete_min($H$) // delete_min gets the minimum value from $H$.  It maintains minimum heap property.  Runtime is $O(logn)$.  \n",
    "For each edge $(v,w) \\in E${  \n",
    "if $max[w] >$ max_value(max[$w$], length($v,w$)){ // max_value returns the max value out of the two inputs.  \n",
    "$max[w] > $ max_value(max[$w$], length($v,w$))  \n",
    "$prev[w] \\leftarrow v$  \n",
    "$dist[w] \\leftarrow dist[w] + length(v,w)$\n",
    "$Insert(H, w, dist[w])$ // Maintains minimum heap property.  Runtime is $O(logn)$\n",
    "}\n",
    "}\n",
    "}"
   ]
  },
  {
   "cell_type": "markdown",
   "metadata": {},
   "source": [
    "Because this algorithm only differs from Dijkstra's algorithm on the optimization condition, the runtime of this algorithm is the same as Dijkstra's algorithm.  Therefore, the runtime is $O((m+n)logn)$ where $m$ is the number of edges and $n$ is the number of vertices."
   ]
  },
  {
   "cell_type": "markdown",
   "metadata": {},
   "source": [
    "Proof of correctness:  \n",
    "Assume Dijkstra's algorithm is correct.  The proposed algorithm is a modification on Dijkstra's algorithm on the optimization condition.  Instead of minimizing the total length of a path to $v$, this algorithm minimizes the bottleneck of a path to $v$.  Therefore, it simply follows from Dijkstra's algorithm that the algorithm will correctly output paths that minimize the max edge weight in a path.  "
   ]
  },
  {
   "cell_type": "markdown",
   "metadata": {},
   "source": [
    "6. Consider the shortest paths problem in the special case where all edge costs are non-negative integers.  Describe a modification of Dijkstra's algorithm that works in time O(|E| + |V|M), where M is the maximum cost of any edge in the graph.  "
   ]
  },
  {
   "cell_type": "markdown",
   "metadata": {},
   "source": [
    "Let $H$ be an array of length $k|V|$.  $k|V|$ represents the maximum possible distance from source.  $k$ is the max edge weight in the graph $G=(V,E)$.  An index $i$ in $H$ is empty if there are no vertices that has distance $i$ from $s$.  Each index starting from index 0 represents the distance from $s$, and each index $i$ can hold more than 1 vertex.  Initially, s is set to index 0 and every other vertice is set to $\\infty$.  The Insert subroutine is implemented such a way that it inserts a vertex into a specified index $i$ in the array $H$.  Therefore, the runtime on Insert is O(1), constant time.  The Delete_min subroutine is implemented such that it starts from index 0 in H and delete empty entries from list until encounter a vertex.  Each deletion until encounter vertex will be constant amount of steps and varies for each iteration.  A dist array is initialized to keep track of all the distances from $s$ to $v$.  A prev array is used to keep track of the node that came before node $v$.  A vertex is retrieved from $H$ and every adjacent edge of v is explored.  Lets say there is an edge $(v,w)$ from $v$ that connects to $w$.  If the path to $w$ is shorter, then update that path to the shortest distance and update prev such that the previous node to $w$ is updated to reflect the new path.  Repeat this process until every edge and vertice is visited.  \n",
    "\n",
    "Pseudocode:  \n",
    "\n",
    "Input is Graph $G=(V,E)$, $length[1, 2, ..., n]$, source $s \\in V$.  $length[v]$ is the weight of edge $v$.  $V$ is the set of all vertices, and $E$ is the set of all edges.  \n",
    "Output is distance to every reachable $v$ from $s$.  \n",
    "\n",
    "Let $H$ match the description used above.  \n",
    "$dist[s] \\leftarrow 0$  \n",
    "$dist[v] \\leftarrow \\infty$ for all $v \\neq s$  \n",
    "$prev[v] \\leftarrow \\emptyset$ for all $v \\in V$  \n",
    "\n",
    "while $H \\neq \\emptyset${  \n",
    "$v \\leftarrow$ Delete_min($H$)  \n",
    "For each edge $(v,w) \\in E${  \n",
    "if $dist[w] > dist[v] + length(v,w)${  \n",
    "$dist[w] \\leftarrow dist[v] + length(v,w)$  \n",
    "$prev[w] \\leftarrow v$  \n",
    "$Insert(H, w, dist[w])$ // Runtime is $O(1)$  \n",
    "}\n",
    "}\n",
    "}"
   ]
  },
  {
   "cell_type": "markdown",
   "metadata": {},
   "source": [
    "The Insert subroutine is implemented such a way that it inserts a vertex into a specified index $i$ in the array $H$.  Therefore, the runtime on Insert is O(1), constant time.  The Delete_min subroutine is implemented such that it starts from index 0 in H and delete empty entries from list until encounter a vertex.  Each deletion until encounter vertex will take a constant amount of steps and varies for each iteration.  However, we know that each vertice is visited 1 time and the total length of $H$ is $k|V|$.  Therefore, we know that the total amount of steps that Delete_min takes after the algorithm terminates is $k|V|$.  Therefore, Delete_min has a total runtime of $O(k|V|)$ when algorithm terminates.  Formally, let $X_{1}, X_{2}, ..., X_{k|V|}$ be the number of steps of Delete_min for each iteration of the while loop.  It is true that $\\sum_{i=1}^{k|V|} X_{i} = k|V|$ and each Insert call has runtime $O(1)$.  \n",
    "\n",
    "$[O(1) + O(1), ... + O(1)] + [X_{1}, X_{2}, ..., X_{k|V|}] = |E|O(1) + k|V| = O(|E| + k|V|)$"
   ]
  },
  {
   "cell_type": "markdown",
   "metadata": {},
   "source": [
    "Proof of correctness:  \n",
    "\n",
    "Assume that Dijkstra's algorithm is correct.  The only change in the proposed algorithm is that the implemented data structure is different.  The Insert subroutine inserts vertices into index that correspond to the distance of vertex $v$ from $s$.  This ensures that vertices are  ordered from smallest distance to highest distance like in a binary heap.  The Delete_min operation always return minimum vertex distance, which is the same as in Dijkstra's implementation.  Therefore, it follows that the proposed algorithm is correct. QED"
   ]
  },
  {
   "cell_type": "markdown",
   "metadata": {},
   "source": [
    "7. The risk-free currency exchange problem offers a risk-free way to make money.  Suppose we have currencies $c_{1}, c_{2}, ... c_{n}$.  For every two currencies $c_{i}$ and $c_{j}$,  there is an exchange rate $r_{i,j}$ such that you can exchange one unit of $c_{i}$ for $r_{i,j}$ units of $c_{j}$.  Note that if $r_{i,j} \\cdot r_{j, i} > 1$, then you can make money simply by trading units of currency $i$ into units of currency $j$ and back again.  This almost never happens, but occasionally (because the updates for exchange rates do not happen quickly enough) for very short periods of time exchange traders can find a sequence of trades that can make risk-free money.  That is, if there is a sequence of currencies $c_{i_{1}}, c_{i_{2}}, ..., c_{i_{k}}$ such that $r_{i_{1}, i_{2}} \\cdot r_{i_{2}, i_{3}} \\cdot... \\cdot r_{i_{k-1}, i_{k}} \\cdot r_{i_{k}, i_{1}} > 1$, then trading one unit of $c_{i_{1}}$ into $c_{i_{2}}$ and trading that into $c_{i_{3}}$ and so on will yield a profit.  Design an efficient algorithm to detect if a risk-free currency exchange exists.  (Need not actually find the path, just Yes or No)"
   ]
  },
  {
   "cell_type": "markdown",
   "metadata": {},
   "source": [
    "Have $c_{1}, c_{2}, ... c_{n}$ make up the vertices of a graph where $r_{c_{1}, c_{2}}, r_{c_{2}, c_{3}}, ..., r_{c_{n-1}, c_{n}}$ are edge weights for corresponding edges.  Do a $-log(x)$ transformation on all edge weights, and then call Bellman_ford on the graph with transformed edge weights.  \n",
    "\n",
    "Pseudocode:  \n",
    "\n",
    "Input: Graph $G=(V,E)$, where $c_{1}, c_{2}, ... c_{n}$ make up the vertices.  Let the following $r_{c_{1}, c_{2}}, r_{c_{2}, c_{3}}, ..., r_{c_{n-1}, c_{n}}$ be edge weights for the corresponding edge, and let length be the array that contains the edge weights.  So $length[(c_{1}, c_{2})]$ contains the edge weight $r_{c_{1}, c_{2}}$.  \n",
    "Output: Determines if there is a risk-free currency exchange or no there isn't.  \n",
    "\n",
    "for edge $\\in$ E{  \n",
    "$length[edge] \\leftarrow -log(length[edge])$  // Doing a negative log transformation for every edge.  Runtime is $O(m)$ because there are $m$ edges.  \n",
    "}\n",
    "\n",
    "Bellman_Ford($G=(V,E)$, length) // Bellman_Ford will output 'Yes' if a negative cycle, risk-free  currency exchange, exists"
   ]
  },
  {
   "cell_type": "markdown",
   "metadata": {},
   "source": [
    "The runtime is $O(|E|) + O(|E||V|) = O(|E||V|)$ because clearly $|E||V|$ term dominates.  The Bellman_ford algorithm takes up the most time.  "
   ]
  },
  {
   "cell_type": "markdown",
   "metadata": {},
   "source": [
    "Proof of correctness:  \n",
    "\n",
    "$r_{i_{1}, i_{2}} \\cdot r_{i_{2}, i_{3}} \\cdot... \\cdot r_{i_{k-1}, i_{k}} \\cdot r_{i_{k}, i_{1}} > 1$  \n",
    "$=log(r_{i_{1}, i_{2}} \\cdot r_{i_{2}, i_{3}} \\cdot... \\cdot r_{i_{k-1}, i_{k}} \\cdot r_{i_{k}, i_{1}}) > log(1)$  \n",
    "$=log(r_{i_{1}, i_{2}} \\cdot r_{i_{2}, i_{3}} \\cdot... \\cdot r_{i_{k-1}, i_{k}} \\cdot r_{i_{k}, i_{1}}) > 0$  \n",
    "$=-log(r_{i_{1}, i_{2}} \\cdot r_{i_{2}, i_{3}} \\cdot... \\cdot r_{i_{k-1}, i_{k}} \\cdot r_{i_{k}, i_{1}}) < 0$  \n",
    "$=-log(r_{i_{1}, i_{2}})-log(r_{i_{2}, i_{3}})... -log(r_{i_{k-1}, i_{k}})-log(r_{i_{k}, i_{1}}) < 0$ \n",
    "\n",
    "Assume Bellman_ford algorithm is correct.  Clearly, the proposed algorithm is correct because it only does a $-log(x)$ transformation on all the edge weights and then calls Bellman_ford algorithm.  Transforming every edge weight allows us turn the condition for risk-free currency exchange into a condition that also matches the condition for negative weight cycles.  Therefore, Bellman_Ford algorithm is able to detect risk-free curency exchange.  QED"
   ]
  }
 ],
 "metadata": {
  "kernelspec": {
   "display_name": "Python 3",
   "language": "python",
   "name": "python3"
  },
  "language_info": {
   "codemirror_mode": {
    "name": "ipython",
    "version": 3
   },
   "file_extension": ".py",
   "mimetype": "text/x-python",
   "name": "python",
   "nbconvert_exporter": "python",
   "pygments_lexer": "ipython3",
   "version": "3.6.7"
  }
 },
 "nbformat": 4,
 "nbformat_minor": 2
}
