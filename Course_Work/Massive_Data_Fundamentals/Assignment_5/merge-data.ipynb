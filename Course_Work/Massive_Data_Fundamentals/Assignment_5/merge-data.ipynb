{
 "cells": [
  {
   "cell_type": "markdown",
   "metadata": {},
   "source": [
    "# Create Merged Dataset\n",
    "\n",
    "In this workbook, you will read in the `trip` and `fare` files. You are welcome to use DataFrame and/or SparkSQL API as you desire as long as it produces the expected results.\n",
    "\n",
    "Instructions:\n",
    "\n",
    "1. Join both datasets such that you get a merged dataset with 21 unique fields. You need to determine how to join the dataset.\n",
    "2. Once you create the merged dataset, you need to convert fields to the following types, since all fields were read is as string:\n",
    "    * pickup_datetime and dropoff_datetime must be TIMESTAMP\n",
    "    * passenger_count and rate_code must be INT\n",
    "    * all other numeric fields must be FLOAT\n",
    "    * the remaining fields stay as STRING\n",
    "3. Save your merged and converted dataset to your own S3 bucket in parquet format.\n",
    "\n",
    "You are welcome to add as many cells as you need below up until the next section. **You must include comments in your code.**"
   ]
  },
  {
   "cell_type": "code",
   "execution_count": 2,
   "metadata": {},
   "outputs": [],
   "source": [
    "import findspark\n",
    "findspark.init()\n",
    "from pyspark.sql import SparkSession\n",
    "from pyspark.sql.functions import monotonically_increasing_id\n",
    "from functools import reduce\n",
    "from pyspark.sql import functions as f\n",
    "spark = SparkSession.builder.appName(\"lab-ml\").getOrCreate()"
   ]
  },
  {
   "cell_type": "code",
   "execution_count": 3,
   "metadata": {},
   "outputs": [],
   "source": [
    "# Loading Parquet files into dataframe.\n",
    "# might need to change csv to parquet when reading in the full data set.  \n",
    "trip_df = spark.read\\\n",
    "  .format('csv')\\\n",
    "  .option('header', 'true')\\\n",
    "  .option('inferSchema', 'true')\\\n",
    "  .parquet('s3://bigdatateaching/nyctaxi-2013/parquet/trip')\n",
    "fare_df = spark.read.format(\"csv\").option('header', 'true').option('inferSchema', 'true')\\\n",
    "    .parquet('s3://bigdatateaching/nyctaxi-2013/parquet/fare')"
   ]
  },
  {
   "cell_type": "code",
   "execution_count": 4,
   "metadata": {},
   "outputs": [],
   "source": [
    "# Creating unqiue id for each observation.  \n",
    "trip_df = trip_df.withColumn('id', monotonically_increasing_id())\n",
    "fare_df = fare_df.withColumn('id', monotonically_increasing_id())"
   ]
  },
  {
   "cell_type": "code",
   "execution_count": 5,
   "metadata": {},
   "outputs": [],
   "source": [
    "# Combine the two dataframes on id column.\n",
    "combined = trip_df.join(fare_df,on='id', how='full_outer').select(\n",
    "trip_df.medallion,\n",
    "trip_df.hack_license,\n",
    "trip_df.vendor_id,\n",
    "trip_df.rate_code.cast('int'),\n",
    "trip_df.store_and_fwd_flag,\n",
    "trip_df.pickup_datetime.cast('timestamp'),\n",
    "trip_df.dropoff_datetime.cast('timestamp'),\n",
    "trip_df.passenger_count.cast('int'),\n",
    "trip_df.trip_time_in_secs.cast('float'),\n",
    "trip_df.trip_distance.cast('float'),\n",
    "trip_df.pickup_longitude.cast('float'),\n",
    "trip_df.pickup_latitude.cast('float'),\n",
    "trip_df.dropoff_longitude.cast('float'),\n",
    "trip_df.dropoff_latitude.cast('float'),\n",
    "fare_df.payment_type,\n",
    "fare_df.fare_amount.cast('float'),\n",
    "fare_df.surcharge.cast('float'),\n",
    "fare_df.mta_tax.cast('float'),\n",
    "fare_df.tip_amount.cast('float'),\n",
    "fare_df.tolls_amount.cast('float'),\n",
    "fare_df.total_amount.cast('float'))"
   ]
  },
  {
   "cell_type": "code",
   "execution_count": 6,
   "metadata": {},
   "outputs": [],
   "source": [
    "# Creating tip label.  1 = passenger tipped; 0 = no tip.\n",
    "combined = combined.withColumn('tip', f.when(f.col('tip_amount') > 0, 1).otherwise(0))"
   ]
  },
  {
   "cell_type": "markdown",
   "metadata": {},
   "source": [
    "## In the following cells, please provide the requested code and output. Do not change the order and/or structure of the cells."
   ]
  },
  {
   "cell_type": "markdown",
   "metadata": {},
   "source": [
    "In the next cell, provide the code that saves your merged dataset to your S3 bucket."
   ]
  },
  {
   "cell_type": "code",
   "execution_count": 7,
   "metadata": {},
   "outputs": [],
   "source": [
    "# Save data to gu-502-course s3 bucket.\n",
    "combined.write.parquet(\"s3://gu-502-course/trip_fare_combined\", mode=\"overwrite\")"
   ]
  },
  {
   "cell_type": "markdown",
   "metadata": {},
   "source": [
    "In the next cell, print the schema of your merged dataset."
   ]
  },
  {
   "cell_type": "code",
   "execution_count": 8,
   "metadata": {
    "scrolled": false
   },
   "outputs": [
    {
     "name": "stdout",
     "output_type": "stream",
     "text": [
      "root\n",
      " |-- medallion: string (nullable = true)\n",
      " |-- hack_license: string (nullable = true)\n",
      " |-- vendor_id: string (nullable = true)\n",
      " |-- rate_code: integer (nullable = true)\n",
      " |-- store_and_fwd_flag: string (nullable = true)\n",
      " |-- pickup_datetime: timestamp (nullable = true)\n",
      " |-- dropoff_datetime: timestamp (nullable = true)\n",
      " |-- passenger_count: integer (nullable = true)\n",
      " |-- trip_time_in_secs: float (nullable = true)\n",
      " |-- trip_distance: float (nullable = true)\n",
      " |-- pickup_longitude: float (nullable = true)\n",
      " |-- pickup_latitude: float (nullable = true)\n",
      " |-- dropoff_longitude: float (nullable = true)\n",
      " |-- dropoff_latitude: float (nullable = true)\n",
      " |-- payment_type: string (nullable = true)\n",
      " |-- fare_amount: float (nullable = true)\n",
      " |-- surcharge: float (nullable = true)\n",
      " |-- mta_tax: float (nullable = true)\n",
      " |-- tip_amount: float (nullable = true)\n",
      " |-- tolls_amount: float (nullable = true)\n",
      " |-- total_amount: float (nullable = true)\n",
      " |-- tip: integer (nullable = false)\n",
      "\n"
     ]
    }
   ],
   "source": [
    "combined.printSchema()"
   ]
  },
  {
   "cell_type": "markdown",
   "metadata": {},
   "source": [
    "In the next cell, print the first 10 records of your merged dataset."
   ]
  },
  {
   "cell_type": "code",
   "execution_count": 9,
   "metadata": {
    "scrolled": false
   },
   "outputs": [
    {
     "name": "stdout",
     "output_type": "stream",
     "text": [
      "+--------------------+--------------------+---------+---------+------------------+-------------------+-------------------+---------------+-----------------+-------------+----------------+---------------+-----------------+----------------+------------+-----------+---------+-------+----------+------------+------------+---+\n",
      "|           medallion|        hack_license|vendor_id|rate_code|store_and_fwd_flag|    pickup_datetime|   dropoff_datetime|passenger_count|trip_time_in_secs|trip_distance|pickup_longitude|pickup_latitude|dropoff_longitude|dropoff_latitude|payment_type|fare_amount|surcharge|mta_tax|tip_amount|tolls_amount|total_amount|tip|\n",
      "+--------------------+--------------------+---------+---------+------------------+-------------------+-------------------+---------------+-----------------+-------------+----------------+---------------+-----------------+----------------+------------+-----------+---------+-------+----------+------------+------------+---+\n",
      "|75C7F961C2AB3EFE9...|A9DD60890B6E05454...|      VTS|        1|              null|2013-04-20 23:27:00|2013-04-20 23:31:00|              1|            240.0|          0.7|       -74.00557|      40.739887|        -73.99053|       40.751244|         CRD|        5.0|      1.0|    0.5|       1.0|         0.0|         7.5|  1|\n",
      "|313331ED5239D808B...|0D3FDAE1A388A2809...|      VTS|        1|              null|2013-04-20 23:25:00|2013-04-20 23:31:00|              1|            360.0|         0.92|        -74.0172|       40.70531|       -74.007645|       40.705082|         CRD|        7.0|      1.0|    0.5|       1.0|         0.0|         9.5|  1|\n",
      "|473358A2046414278...|BAA76362B2630EDF6...|      VTS|        1|              null|2013-04-20 23:25:00|2013-04-20 23:34:00|              1|            540.0|         0.77|      -73.968864|      40.754585|       -73.976105|       40.744587|         CRD|       20.0|      1.0|    0.5|       0.0|         0.0|        21.5|  0|\n",
      "|F8A229F4C6A7E9C28...|B0078FA4E4571F9A3...|      VTS|        1|              null|2013-04-20 23:14:00|2013-04-20 23:28:00|              1|            840.0|         1.36|      -73.988716|      40.764236|        -73.98823|       40.756546|         CSH|       11.0|      0.0|    0.5|       0.0|         0.0|        11.5|  0|\n",
      "|177D012266F461E58...|12CE9220B61161C02...|      VTS|        2|              null|2013-04-20 16:04:00|2013-04-20 16:51:00|              1|           2820.0|        19.06|      -73.789505|        40.6466|        -73.94693|        40.77626|         CRD|        7.0|      0.0|    0.5|      1.75|         0.0|        9.25|  1|\n",
      "|70969CFA735E42492...|2785F4B3C7EADD8E9...|      VTS|        1|              null|2013-04-20 16:48:00|2013-04-20 16:53:00|              1|            300.0|         1.01|      -73.957146|      40.766773|       -73.966896|        40.76274|         CRD|        5.0|      0.0|    0.5|       1.0|         0.0|         6.5|  1|\n",
      "|A89CCEF59EC2BBA51...|52117E5AC03C0905B...|      VTS|        1|              null|2013-04-21 00:10:00|2013-04-21 00:14:00|              1|            240.0|         0.77|       -73.97855|      40.728874|       -73.998764|        40.75025|         CSH|        3.5|      0.0|    0.5|       0.0|         0.0|         4.0|  0|\n",
      "|66FCB49D140596F38...|012F5AA15F8535EF6...|      VTS|        1|              null|2013-04-21 00:05:00|2013-04-21 00:13:00|              2|            480.0|         5.42|       -74.00569|      40.706734|        -73.96605|       40.753796|         CSH|       15.0|      0.0|    0.5|       0.0|         0.0|        15.5|  0|\n",
      "|9511C3CF90020C2E9...|403109104ADA5DF21...|      VTS|        1|              null|2013-04-20 23:50:00|2013-04-21 00:16:00|              6|           1560.0|         7.92|         -73.954|      40.770466|        -73.89672|        40.70215|         CSH|        7.0|      0.0|    0.5|       0.0|         0.0|         7.5|  0|\n",
      "|6EC2D904D0C404EC3...|7E6F0BB0927A0C9EC...|      VTS|        1|              null|2013-04-20 16:36:00|2013-04-20 16:53:00|              1|           1020.0|         4.18|      -73.992836|       40.74292|        -73.95138|        40.77062|         CSH|       13.0|      0.0|    0.5|       0.0|         0.0|        13.5|  0|\n",
      "+--------------------+--------------------+---------+---------+------------------+-------------------+-------------------+---------------+-----------------+-------------+----------------+---------------+-----------------+----------------+------------+-----------+---------+-------+----------+------------+------------+---+\n",
      "only showing top 10 rows\n",
      "\n"
     ]
    }
   ],
   "source": [
    "combined.show(10)"
   ]
  },
  {
   "cell_type": "markdown",
   "metadata": {},
   "source": [
    "In the next cell, print the row count of your merged dataset."
   ]
  },
  {
   "cell_type": "code",
   "execution_count": 10,
   "metadata": {
    "scrolled": true
   },
   "outputs": [
    {
     "data": {
      "text/plain": [
       "186289125"
      ]
     },
     "execution_count": 10,
     "metadata": {},
     "output_type": "execute_result"
    }
   ],
   "source": [
    "combined.count()"
   ]
  }
 ],
 "metadata": {
  "anaconda-cloud": {},
  "celltoolbar": "Raw Cell Format",
  "kernelspec": {
   "display_name": "Python 3",
   "language": "python",
   "name": "python3"
  },
  "language_info": {
   "codemirror_mode": {
    "name": "ipython",
    "version": 3
   },
   "file_extension": ".py",
   "mimetype": "text/x-python",
   "name": "python",
   "nbconvert_exporter": "python",
   "pygments_lexer": "ipython3",
   "version": "3.6.8"
  }
 },
 "nbformat": 4,
 "nbformat_minor": 1
}
